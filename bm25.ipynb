{
 "cells": [
  {
   "cell_type": "code",
   "execution_count": null,
   "metadata": {},
   "outputs": [],
   "source": [
    "# armazenar os documentos totais em variavel\n",
    "\n",
    "import os\n",
    "#rootdir = '/media/r2-d2/E0C494CDC494A6F6/doutorado/20_newsgroup'\n",
    "rootdir = '/media/developer/DATA/doutorado/rec informacao/20_newsgroup'\n",
    "docs = []\n",
    "for subdir, dirs, files in os.walk(rootdir):\n",
    "    for file in files:\n",
    "        #if os.path.basename(subdir) in ['alt.atheism', 'rec.sport.baseball']:\n",
    "        with open(os.path.join(subdir, file), encoding='cp1252') as f:                \n",
    "            contents = f.read()\n",
    "            docs.append({ 'tema': os.path.basename(subdir), 'nome_arquivo': file, 'conteudo': contents  })"
   ]
  },
  {
   "cell_type": "code",
   "execution_count": null,
   "metadata": {},
   "outputs": [],
   "source": []
  }
 ],
 "metadata": {
  "language_info": {
   "name": "python"
  },
  "orig_nbformat": 4
 },
 "nbformat": 4,
 "nbformat_minor": 2
}
